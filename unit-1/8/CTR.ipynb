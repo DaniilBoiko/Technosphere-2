{
 "cells": [
  {
   "cell_type": "code",
   "execution_count": 1,
   "metadata": {},
   "outputs": [],
   "source": [
    "import numpy as np\n",
    "import seaborn as sns\n",
    "import matplotlib.pyplot as plt"
   ]
  },
  {
   "cell_type": "code",
   "execution_count": 2,
   "metadata": {},
   "outputs": [],
   "source": [
    "c1 = np.loadtxt('c1.txt')\n",
    "c2 = np.loadtxt('c2.txt')"
   ]
  },
  {
   "cell_type": "code",
   "execution_count": 3,
   "metadata": {},
   "outputs": [
    {
     "data": {
      "text/plain": [
       "((1000000, 10), (1000000, 10))"
      ]
     },
     "execution_count": 3,
     "metadata": {},
     "output_type": "execute_result"
    }
   ],
   "source": [
    "c1.shape, c2.shape"
   ]
  },
  {
   "cell_type": "code",
   "execution_count": 9,
   "metadata": {},
   "outputs": [],
   "source": [
    "DOCS_IN_GROUP = 1000\n",
    "\n",
    "def to_groups(c):\n",
    "    sums = c.sum(axis=1)\n",
    "    \n",
    "    out = np.zeros(len(sums) // DOCS_IN_GROUP)\n",
    "    for i in range(len(sums) // DOCS_IN_GROUP):\n",
    "        out[i] = np.mean(sums[i*DOCS_IN_GROUP:(i+1)*DOCS_IN_GROUP] > 0)\n",
    "        \n",
    "    return out"
   ]
  },
  {
   "cell_type": "code",
   "execution_count": 5,
   "metadata": {},
   "outputs": [],
   "source": [
    "ctrs_c1 = to_groups(c1)\n",
    "ctrs_c2 = to_groups(c2)"
   ]
  },
  {
   "cell_type": "code",
   "execution_count": 6,
   "metadata": {},
   "outputs": [
    {
     "data": {
      "text/plain": [
       "<matplotlib.legend.Legend at 0x7fee0a247d90>"
      ]
     },
     "execution_count": 6,
     "metadata": {},
     "output_type": "execute_result"
    },
    {
     "data": {
      "image/png": "[encoded data removed]",
      "text/plain": [
       "<Figure size 432x288 with 1 Axes>"
      ]
     },
     "metadata": {
      "needs_background": "light"
     },
     "output_type": "display_data"
    }
   ],
   "source": [
    "sns.distplot(ctrs_c1, label='с1')\n",
    "sns.distplot(ctrs_c2, label='с2')\n",
    "\n",
    "plt.legend()"
   ]
  },
  {
   "cell_type": "code",
   "execution_count": 7,
   "metadata": {},
   "outputs": [],
   "source": [
    "def t_statistic(c1_sample, c2_sample):\n",
    "    num = np.mean(c1_sample) - np.mean(c2_sample)\n",
    "    denom = np.sqrt(np.var(c1_sample)/len(c1_sample) + np.var(c2_sample)/len(c2_sample))\n",
    "    return num/denom\n",
    "\n",
    "    \n",
    "def sample_from(c_shifted, N = 1000, size = 500):\n",
    "    return np.array([\n",
    "        np.random.choice(c_shifted, size) for i in range(N)\n",
    "    ])\n",
    "\n",
    "\n",
    "def mean_diff_test(c1, c2, t_star = 1.96):\n",
    "    c1_samples = sample_from(c1)\n",
    "    c2_samples = sample_from(c2)\n",
    "    \n",
    "    t_stats = np.zeros(len(c1_samples))\n",
    "    \n",
    "    for i in range(len(c1_samples)):\n",
    "        t_stat = t_statistic(c1_samples[i], c2_samples[i])\n",
    "        t_stats[i] = t_stat\n",
    "    \n",
    "    return np.mean(t_stats >= t_star)"
   ]
  },
  {
   "cell_type": "code",
   "execution_count": 8,
   "metadata": {},
   "outputs": [
    {
     "data": {
      "text/plain": [
       "1.0"
      ]
     },
     "execution_count": 8,
     "metadata": {},
     "output_type": "execute_result"
    }
   ],
   "source": [
    "mean_diff_test(ctrs_c1, ctrs_c2)"
   ]
  },
  {
   "cell_type": "markdown",
   "metadata": {},
   "source": [
    "Видимо, что средние отличаются"
   ]
  }
 ],
 "metadata": {
  "kernelspec": {
   "display_name": "Python 3",
   "language": "python",
   "name": "python3"
  },
  "language_info": {
   "codemirror_mode": {
    "name": "ipython",
    "version": 3
   },
   "file_extension": ".py",
   "mimetype": "text/x-python",
   "name": "python",
   "nbconvert_exporter": "python",
   "pygments_lexer": "ipython3",
   "version": "3.8.3"
  }
 },
 "nbformat": 4,
 "nbformat_minor": 4
}
