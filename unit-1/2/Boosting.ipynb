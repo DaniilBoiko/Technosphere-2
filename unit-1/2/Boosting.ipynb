{
 "cells": [
  {
   "cell_type": "markdown",
   "metadata": {},
   "source": [
    "### Логистическая регресcия над градиентным бустингом с AdaBoost loss"
   ]
  },
  {
   "cell_type": "markdown",
   "metadata": {},
   "source": [
    "#### Decision tree regressor"
   ]
  },
  {
   "cell_type": "code",
   "execution_count": 1,
   "metadata": {},
   "outputs": [],
   "source": [
    "import numpy as np\n",
    "import pandas as pd\n",
    "from tqdm.notebook import tqdm, trange\n",
    "import copy\n",
    "from sklearn.tree import DecisionTreeRegressor\n",
    "\n",
    "from joblib import Parallel, delayed"
   ]
  },
  {
   "cell_type": "code",
   "execution_count": 2,
   "metadata": {},
   "outputs": [],
   "source": [
    "EPSILON = 1e-5\n",
    "\n",
    "class NoSplitError(Exception):\n",
    "    pass\n",
    "\n",
    "class Tree:\n",
    "    def __init__(self, depth):\n",
    "        self.depth = depth\n",
    "        \n",
    "        \n",
    "    def find_split_feature(self, x, y, feature):\n",
    "        min_score = np.inf\n",
    "        min_split_value = 0\n",
    "        \n",
    "        sort_idx = np.argsort(x[:, feature])\n",
    "        y_ = y[sort_idx]\n",
    "        x_ = x[sort_idx]\n",
    "\n",
    "        sum_sq_l = 0\n",
    "        sum_sq_r = (y_ ** 2).sum()\n",
    "        sum_l = 0\n",
    "        sum_r = y_.sum()\n",
    "\n",
    "        mean_l = 0\n",
    "        mean_r = sum_r / len(x_)\n",
    "\n",
    "        for i in range(len(x_)-1):                 \n",
    "            sum_sq_l += y_[i] ** 2\n",
    "            sum_sq_r -= y_[i] ** 2\n",
    "\n",
    "            sum_l += y_[i]\n",
    "            sum_r -= y_[i]\n",
    "\n",
    "            mean_l = mean_l*i/(i+1) + y_[i]/(i+1)\n",
    "            mean_r = (mean_r - (y_[i] / (len(x_) - i))) * ((len(x_) - i) / (len(x_) - i - 1))\n",
    "\n",
    "            if not np.isclose(x_[i, feature], x_[i+1, feature]):\n",
    "                var_l = sum_sq_l - 2*mean_l*sum_l + (i+1)*mean_l**2\n",
    "                var_r = sum_sq_r - 2*mean_r*sum_r + (len(x_) - i - 1)*mean_r**2\n",
    "\n",
    "                #score = ((i+1)*var_l + (len(x_) - i - 1)*var_r)/len(x_)\n",
    "                score = -((i+1)*(len(x_) - i - 1)/len(x_)) * (mean_l - mean_r) ** 2\n",
    "\n",
    "                if score < min_score:\n",
    "                    min_score = score\n",
    "                    min_split_value = (x_[i, feature] + x_[i+1, feature])/2\n",
    "\n",
    "        return {\n",
    "            'feature': feature,\n",
    "            'score': min_score,\n",
    "            'value': min_split_value\n",
    "        }\n",
    "        \n",
    "    def find_split(self, x, y):\n",
    "        results = Parallel(n_jobs=8)(delayed(self.find_split_feature)(x, y, feature) for feature in range(self.n_features))\n",
    "        \n",
    "        min_score = np.inf\n",
    "        min_score_data = None\n",
    "        \n",
    "        for result in results:\n",
    "            if result['score'] < min_score:\n",
    "                min_score = result['score']\n",
    "                min_score_data = result\n",
    "                \n",
    "        if min_score_data is None:\n",
    "            raise NoSplitError\n",
    "                \n",
    "        return min_score_data['value'], min_score_data['feature']\n",
    "        \n",
    "    def fit(self, x, y):\n",
    "        if self.depth == 0:\n",
    "            self.value = np.mean(y)\n",
    "        else:\n",
    "            self.n_features = x.shape[1]\n",
    "            \n",
    "            try:\n",
    "                self.split, self.feature = self.find_split(x, y)\n",
    "            except NoSplitError:\n",
    "                self.depth = 0\n",
    "                self.value = np.mean(y)\n",
    "                return\n",
    "                \n",
    "            \n",
    "            left_indicies = x[:, self.feature] < self.split\n",
    "            \n",
    "            if left_indicies.sum() >= 2:\n",
    "                self.left = Tree(self.depth-1)\n",
    "                self.left.fit(x[left_indicies], y[left_indicies])\n",
    "            else:\n",
    "                self.left = Tree(0)\n",
    "                self.left.fit(x[left_indicies], y[left_indicies])\n",
    "\n",
    "            \n",
    "            right_indicies = x[:, self.feature] >= self.split\n",
    "            \n",
    "            if right_indicies.sum() >= 2:\n",
    "                self.right = Tree(self.depth-1)\n",
    "                self.right.fit(x[right_indicies], y[right_indicies])\n",
    "            else:\n",
    "                self.right = Tree(0)\n",
    "                self.right.fit(x[right_indicies], y[right_indicies])\n",
    "        \n",
    "        \n",
    "    def predict(self, x, get_id = False):\n",
    "        out = np.zeros(len(x))\n",
    "        \n",
    "        if self.depth == 0:\n",
    "            if get_id:\n",
    "                if not hasattr(self, 'id'):\n",
    "                    raise \n",
    "                return self.id\n",
    "            else:\n",
    "                return self.value\n",
    "        else:\n",
    "            out[x[:, self.feature] < self.split] = self.left.predict(x[x[:, self.feature] < self.split], get_id)\n",
    "            out[x[:, self.feature] >= self.split] = self.right.predict(x[x[:, self.feature] >= self.split], get_id)\n",
    "            \n",
    "        return out\n",
    "    \n",
    "    def update_terminal_regions(self, x, y, raw_predictions):\n",
    "        if self.depth == 0:\n",
    "            num = np.sum(y*np.exp(-y * raw_predictions))\n",
    "            denom = np.sum(np.exp(-y * raw_predictions))\n",
    "        \n",
    "            self.value = num/denom if denom >= 1e-50 else 0\n",
    "        else:\n",
    "            left = x[:, self.feature] < self.split\n",
    "            right = ~left\n",
    "            \n",
    "            self.left.update_terminal_regions(x[left], y[left], raw_predictions[left])\n",
    "            self.right.update_terminal_regions(x[right], y[right], raw_predictions[right])"
   ]
  },
  {
   "cell_type": "code",
   "execution_count": 3,
   "metadata": {},
   "outputs": [],
   "source": [
    "from sklearn.tree import DecisionTreeRegressor\n",
    "import matplotlib.pyplot as plt\n",
    "\n",
    "rng = np.random.RandomState(1)\n",
    "X = np.sort(5 * rng.rand(80, 1), axis=0)\n",
    "y = np.sin(X).ravel()\n",
    "y[::5] += 3 * (0.5 - rng.rand(16))"
   ]
  },
  {
   "cell_type": "code",
   "execution_count": 4,
   "metadata": {},
   "outputs": [
    {
     "name": "stdout",
     "output_type": "stream",
     "text": [
      "CPU times: user 3 µs, sys: 1 µs, total: 4 µs\n",
      "Wall time: 7.39 µs\n"
     ]
    },
    {
     "data": {
      "text/plain": [
       "DecisionTreeRegressor(ccp_alpha=0.0, criterion='mse', max_depth=5,\n",
       "                      max_features=None, max_leaf_nodes=None,\n",
       "                      min_impurity_decrease=0.0, min_impurity_split=None,\n",
       "                      min_samples_leaf=1, min_samples_split=2,\n",
       "                      min_weight_fraction_leaf=0.0, presort='deprecated',\n",
       "                      random_state=None, splitter='best')"
      ]
     },
     "execution_count": 4,
     "metadata": {},
     "output_type": "execute_result"
    }
   ],
   "source": [
    "%time\n",
    "\n",
    "regr_1 = DecisionTreeRegressor(max_depth=2)\n",
    "regr_2 = DecisionTreeRegressor(max_depth=5)\n",
    "regr_1.fit(X, y)\n",
    "regr_2.fit(X, y)"
   ]
  },
  {
   "cell_type": "code",
   "execution_count": 5,
   "metadata": {},
   "outputs": [
    {
     "name": "stdout",
     "output_type": "stream",
     "text": [
      "CPU times: user 3 µs, sys: 1 µs, total: 4 µs\n",
      "Wall time: 7.63 µs\n"
     ]
    }
   ],
   "source": [
    "%time\n",
    "\n",
    "regr_3 = Tree(depth=2)\n",
    "regr_3.fit(X, y)\n",
    "\n",
    "regr_4 = Tree(depth=5)\n",
    "regr_4.fit(X, y)"
   ]
  },
  {
   "cell_type": "code",
   "execution_count": 6,
   "metadata": {},
   "outputs": [
    {
     "data": {
      "image/png": "[encoded data removed]",
      "text/plain": [
       "<Figure size 864x576 with 1 Axes>"
      ]
     },
     "metadata": {
      "needs_background": "light"
     },
     "output_type": "display_data"
    }
   ],
   "source": [
    "X_test = np.arange(0.0, 5.0, 0.01)[:, np.newaxis]\n",
    "\n",
    "y_1 = regr_1.predict(X_test)\n",
    "y_2 = regr_2.predict(X_test)\n",
    "y_3 = regr_3.predict(X_test)\n",
    "y_4 = regr_4.predict(X_test)\n",
    "\n",
    "\n",
    "plt.figure(figsize=(12,8))\n",
    "plt.scatter(X, y, s=20, c=\"black\", label=\"data\")\n",
    "\n",
    "plt.plot(X_test, y_1, color=\"cornflowerblue\", label=\"max_depth=2\", linewidth=3)\n",
    "plt.plot(X_test, y_2, color=\"yellowgreen\", label=\"max_depth=5\", linewidth=3)\n",
    "plt.plot(X_test, y_3, color=\"red\", label=\"My decision tree (2)\", linewidth=2, linestyle='dashed')\n",
    "\n",
    "plt.plot(X_test, y_4, color=\"violet\", label=\"My decision tree (5)\", linewidth=2, linestyle='dashed')\n",
    "plt.xlabel(\"data\")\n",
    "plt.ylabel(\"target\")\n",
    "plt.title(\"Decision Tree Regression\")\n",
    "plt.legend()\n",
    "plt.show()"
   ]
  },
  {
   "cell_type": "markdown",
   "metadata": {},
   "source": [
    "#### Gradient boosting\n",
    "\n",
    "$$r_{i} = -\\frac{\\partial L(y_i, h(x_i))}{\\partial h(x_i)} = -\\frac{\\partial exp(-y_i h(x_i)}{\\partial h(x)} = exp(-y_i h(x_i) y_i = L(y_i, h(x_i))*y_i$$\n",
    "\n",
    "$$\\frac{\\partial^2 L(y_i, h(x_i))}{\\partial h(x_i)^2} = \\frac{\\partial^2 exp(-y_i h(x_i)}{\\partial h(x)^2}$$"
   ]
  },
  {
   "cell_type": "code",
   "execution_count": 7,
   "metadata": {},
   "outputs": [],
   "source": [
    "class GradientBoosting:\n",
    "    def __init__(self, n_trees, depth, lr):\n",
    "        self.n_trees = n_trees\n",
    "        self.depth = depth\n",
    "        self.lr = lr\n",
    "        \n",
    "    def compute_grad(self, x, y):\n",
    "        return self._compute_loss_vector(x, y) * y\n",
    "    \n",
    "    def _compute_loss_vector(self, x, y):\n",
    "        preds = self.predict(x)\n",
    "        return np.exp(-y*preds)\n",
    "    \n",
    "    def compute_loss(self, x, y):\n",
    "        return np.mean(self._compute_loss_vector(x, y))\n",
    "    \n",
    "    def fit_last_tree(self, x, y):\n",
    "        history = []\n",
    "        last_tree_preds = self.trees[-1].predict(x)\n",
    "        \n",
    "        all_wo_last_preds = np.zeros(len(x))\n",
    "        all_wo_last_preds += self.constant\n",
    "        \n",
    "        for tree in self.trees[:-1]:\n",
    "            all_wo_last_preds += self.lr*tree.predict(x)\n",
    "\n",
    "        self.trees[-1].update_terminal_regions(x, y, all_wo_last_preds)\n",
    "            \n",
    "        return history\n",
    "        \n",
    "    def fit(self, x, y, eval_X, eval_y):\n",
    "        self.trees = []\n",
    "        self.constant = np.mean(y)\n",
    "        \n",
    "        t = trange(self.n_trees)\n",
    "        for tree_idx in t:\n",
    "            to_predict = self.compute_grad(x, y)\n",
    "            \n",
    "            tree = Tree(depth=self.depth)\n",
    "            tree.fit(x, to_predict)\n",
    "                    \n",
    "            tree.update_terminal_regions(x, y, self.predict(x))\n",
    "\n",
    "            self.trees.append(tree)\n",
    "            \n",
    "            t.set_description(f'{self.compute_loss(x, y):.2f} / {self.compute_loss(eval_X, eval_y):.2f}')\n",
    "            \n",
    "            \n",
    "    def predict(self, x):\n",
    "        y_hat = np.zeros(len(x))\n",
    "        \n",
    "        y_hat += self.constant\n",
    "        \n",
    "        for tree in self.trees:\n",
    "            y_hat += self.lr*tree.predict(x)\n",
    "            \n",
    "        return y_hat\n",
    "    \n",
    "    def predict_proba(self, x):\n",
    "        exp = np.exp(-self.predict(x))\n",
    "        return 1/(1+exp)"
   ]
  },
  {
   "cell_type": "code",
   "execution_count": 8,
   "metadata": {},
   "outputs": [],
   "source": [
    "gb = GradientBoosting(50, 2, 0.1)"
   ]
  },
  {
   "cell_type": "code",
   "execution_count": 9,
   "metadata": {},
   "outputs": [],
   "source": [
    "x = np.linspace(0,10, 50).reshape([50, 1])\n",
    "y = (np.sin(x)[:,0]+1)/2"
   ]
  },
  {
   "cell_type": "code",
   "execution_count": 10,
   "metadata": {},
   "outputs": [
    {
     "data": {
      "image/png": "[encoded data removed]",
      "text/plain": [
       "<Figure size 504x360 with 1 Axes>"
      ]
     },
     "metadata": {
      "needs_background": "light"
     },
     "output_type": "display_data"
    }
   ],
   "source": [
    "plt.figure(figsize=(7,5))\n",
    "plt.plot(x,y, 'o')\n",
    "plt.title(\"Scatter plot of x vs. y\")\n",
    "plt.xlabel(\"x\")\n",
    "plt.ylabel(\"y\")\n",
    "plt.show()"
   ]
  },
  {
   "cell_type": "code",
   "execution_count": 11,
   "metadata": {
    "scrolled": false
   },
   "outputs": [
    {
     "data": {
      "application/vnd.jupyter.widget-view+json": {
       "model_id": "592602f5bc83458baaf68e2f1a1e35cb",
       "version_major": 2,
       "version_minor": 0
      },
      "text/plain": [
       "HBox(children=(FloatProgress(value=0.0, max=50.0), HTML(value='')))"
      ]
     },
     "metadata": {},
     "output_type": "display_data"
    },
    {
     "name": "stdout",
     "output_type": "stream",
     "text": [
      "\n"
     ]
    }
   ],
   "source": [
    "gb.fit(x, y, x, y)"
   ]
  },
  {
   "cell_type": "code",
   "execution_count": 12,
   "metadata": {},
   "outputs": [],
   "source": [
    "from sklearn.datasets import make_moons\n",
    "from sklearn.model_selection import train_test_split\n",
    "from matplotlib.colors import ListedColormap\n",
    "\n",
    "X, y = make_moons(noise=0.3, random_state=0)\n",
    "y = 2*y-1"
   ]
  },
  {
   "cell_type": "code",
   "execution_count": 13,
   "metadata": {},
   "outputs": [],
   "source": [
    "X_train, X_test, y_train, y_test = \\\n",
    "    train_test_split(X, y, test_size=.4, random_state=42)\n",
    "\n",
    "h = .02\n",
    "\n",
    "x_min, x_max = X[:, 0].min() - .5, X[:, 0].max() + .5\n",
    "y_min, y_max = X[:, 1].min() - .5, X[:, 1].max() + .5\n",
    "xx, yy = np.meshgrid(np.arange(x_min, x_max, h),\n",
    "                     np.arange(y_min, y_max, h))"
   ]
  },
  {
   "cell_type": "code",
   "execution_count": 14,
   "metadata": {},
   "outputs": [
    {
     "data": {
      "application/vnd.jupyter.widget-view+json": {
       "model_id": "974acb3dc7064436b629b727f3c46bbd",
       "version_major": 2,
       "version_minor": 0
      },
      "text/plain": [
       "HBox(children=(FloatProgress(value=0.0, max=50.0), HTML(value='')))"
      ]
     },
     "metadata": {},
     "output_type": "display_data"
    },
    {
     "name": "stdout",
     "output_type": "stream",
     "text": [
      "\n"
     ]
    },
    {
     "data": {
      "text/plain": [
       "<matplotlib.contour.QuadContourSet at 0x7fb433537490>"
      ]
     },
     "execution_count": 14,
     "metadata": {},
     "output_type": "execute_result"
    },
    {
     "data": {
      "image/png": "[encoded data removed]",
      "text/plain": [
       "<Figure size 432x288 with 1 Axes>"
      ]
     },
     "metadata": {
      "needs_background": "light"
     },
     "output_type": "display_data"
    }
   ],
   "source": [
    "cm = plt.cm.RdBu\n",
    "cm_bright = ListedColormap(['#FF0000', '#0000FF'])\n",
    "ax = plt.subplot(111)\n",
    "ax.scatter(X_train[:, 0], X_train[:, 1], c=y_train, cmap=cm_bright,\n",
    "           edgecolors='k')\n",
    "ax.scatter(X_test[:, 0], X_test[:, 1], c=y_test, cmap=cm_bright, alpha=0.6,\n",
    "           edgecolors='k')\n",
    "ax.set_xlim(xx.min(), xx.max())\n",
    "ax.set_ylim(yy.min(), yy.max())\n",
    "\n",
    "clf = GradientBoosting(50, 3, 0.1)\n",
    "clf.fit(X_train, y_train, X_test, y_test)\n",
    "\n",
    "Z = clf.predict_proba(np.c_[xx.ravel(), yy.ravel()])\n",
    "\n",
    "Z = (Z.reshape(xx.shape)+1)/2\n",
    "ax.contourf(xx, yy, Z, cmap=cm, alpha=.8)"
   ]
  },
  {
   "cell_type": "markdown",
   "metadata": {},
   "source": [
    "#### Тестирование градиентного бустинга"
   ]
  },
  {
   "cell_type": "code",
   "execution_count": 15,
   "metadata": {},
   "outputs": [],
   "source": [
    "test = np.loadtxt('spam.test.txt')\n",
    "train = np.loadtxt('spam.train.txt')"
   ]
  },
  {
   "cell_type": "code",
   "execution_count": 16,
   "metadata": {},
   "outputs": [],
   "source": [
    "y_train = train[:, 0]\n",
    "X_train = train[:, 1:]\n",
    "\n",
    "y_test = test[:, 0]\n",
    "X_test = test[:, 1:]\n",
    "\n",
    "y_train -= 0.5\n",
    "y_train *= 2\n",
    "\n",
    "y_test -= 0.5\n",
    "y_test *= 2"
   ]
  },
  {
   "cell_type": "code",
   "execution_count": 17,
   "metadata": {
    "scrolled": false
   },
   "outputs": [
    {
     "data": {
      "application/vnd.jupyter.widget-view+json": {
       "model_id": "41384015988c44f6a2f71def5306ce19",
       "version_major": 2,
       "version_minor": 0
      },
      "text/plain": [
       "HBox(children=(FloatProgress(value=0.0, max=300.0), HTML(value='')))"
      ]
     },
     "metadata": {},
     "output_type": "display_data"
    },
    {
     "name": "stdout",
     "output_type": "stream",
     "text": [
      "\n"
     ]
    }
   ],
   "source": [
    "clf = GradientBoosting(300, 3, 0.1)\n",
    "clf.fit(X_train, y_train, eval_X = X_test, eval_y = y_test)"
   ]
  },
  {
   "cell_type": "code",
   "execution_count": 33,
   "metadata": {},
   "outputs": [
    {
     "data": {
      "application/vnd.jupyter.widget-view+json": {
       "model_id": "a4e091f36b8746b4833d8e6fa42ea0ec",
       "version_major": 2,
       "version_minor": 0
      },
      "text/plain": [
       "HBox(children=(FloatProgress(value=0.0, max=30.0), HTML(value='')))"
      ]
     },
     "metadata": {},
     "output_type": "display_data"
    },
    {
     "name": "stdout",
     "output_type": "stream",
     "text": [
      "\n"
     ]
    }
   ],
   "source": [
    "from sklearn.ensemble import GradientBoostingClassifier\n",
    "\n",
    "losses = {\n",
    "    'train_sk':[],\n",
    "    'train':[],\n",
    "    'test_sk':[],\n",
    "    'test':[]\n",
    "}\n",
    "\n",
    "trees_list = np.arange(10, 301, 10)\n",
    "\n",
    "for n_trees in tqdm(trees_list):\n",
    "    sk_clf = GradientBoostingClassifier(loss='exponential', learning_rate= 0.1, \n",
    "                                    n_estimators=n_trees, max_depth=3, init='zero',\n",
    "                                    criterion='mse')\n",
    "    sk_clf.fit(X_train, y_train)\n",
    "    \n",
    "    clf_preds_test = np.zeros(len(X_test))\n",
    "    clf_preds_test += clf.constant\n",
    "    for tree in clf.trees[:n_trees]:\n",
    "        clf_preds_test += tree.predict(X_test)*clf.lr\n",
    "\n",
    "    clf_preds_train = np.zeros(len(X_train))\n",
    "    clf_preds_train += clf.constant\n",
    "    for tree in clf.trees[:n_trees]:\n",
    "        clf_preds_train += tree.predict(X_train)*clf.lr\n",
    "\n",
    "\n",
    "    losses['test'].append(np.mean(np.exp(-y_test*clf_preds_test)))\n",
    "    losses['test_sk'].append(np.mean(np.exp(-y_test*sk_clf.decision_function(X_test))))\n",
    "    \n",
    "    losses['train'].append(np.mean(np.exp(-y_train*clf_preds_train)))\n",
    "    losses['train_sk'].append(np.mean(np.exp(-y_train*sk_clf.decision_function(X_train))))"
   ]
  },
  {
   "cell_type": "code",
   "execution_count": 34,
   "metadata": {},
   "outputs": [
    {
     "data": {
      "text/plain": [
       "<matplotlib.legend.Legend at 0x7fb431f5da50>"
      ]
     },
     "execution_count": 34,
     "metadata": {},
     "output_type": "execute_result"
    },
    {
     "data": {
      "image/png": "[encoded data removed]",
      "text/plain": [
       "<Figure size 432x288 with 1 Axes>"
      ]
     },
     "metadata": {
      "needs_background": "light"
     },
     "output_type": "display_data"
    }
   ],
   "source": [
    "plt.plot(trees_list, losses['train'], color='dodgerblue', label='train')\n",
    "\n",
    "plt.plot(trees_list, losses['test'], color='green', label='test')\n",
    "\n",
    "plt.fill_between(trees_list,\n",
    "                 np.array(losses['test_sk'])*0.97,\n",
    "                 np.array(losses['test_sk'])*1.03, color='lightgreen', label='test_Sk')\n",
    "\n",
    "plt.fill_between(trees_list,\n",
    "                 np.array(losses['train_sk'])*0.97,\n",
    "                 np.array(losses['train_sk'])*1.03, color='lightblue', label='train_Sk')\n",
    "plt.legend()"
   ]
  },
  {
   "cell_type": "code",
   "execution_count": 35,
   "metadata": {},
   "outputs": [
    {
     "data": {
      "text/plain": [
       "Text(0, 0.5, 'Mine')"
      ]
     },
     "execution_count": 35,
     "metadata": {},
     "output_type": "execute_result"
    },
    {
     "data": {
      "image/png": "[encoded data removed]",
      "text/plain": [
       "<Figure size 432x288 with 2 Axes>"
      ]
     },
     "metadata": {
      "needs_background": "light"
     },
     "output_type": "display_data"
    }
   ],
   "source": [
    "plt.subplot(211)\n",
    "plt.scatter(sk_clf.decision_function(X_train), clf.predict(X_train), s=0.1, c=y_train)\n",
    "plt.xlabel('Sk')\n",
    "plt.ylabel('Mine')\n",
    "\n",
    "plt.subplot(212)\n",
    "plt.scatter(sk_clf.decision_function(X_test), clf.predict(X_test), s=0.1, c=y_test)\n",
    "plt.xlabel('Sk')\n",
    "plt.ylabel('Mine')"
   ]
  },
  {
   "cell_type": "markdown",
   "metadata": {},
   "source": [
    "#### Извлечение признаков и логистическая регрессия"
   ]
  },
  {
   "cell_type": "code",
   "execution_count": 77,
   "metadata": {},
   "outputs": [],
   "source": [
    "def enumerate_tree(tree, offset = 0):\n",
    "    if tree.depth==0:\n",
    "        tree.id = offset\n",
    "        return offset+1\n",
    "    \n",
    "    else:\n",
    "        offset_left = enumerate_tree(tree.left, offset)\n",
    "        offset_right = enumerate_tree(tree.right, offset_left)\n",
    "        \n",
    "        return offset_right"
   ]
  },
  {
   "cell_type": "code",
   "execution_count": 78,
   "metadata": {},
   "outputs": [],
   "source": [
    "class FeatureExtractor:\n",
    "    def __init__(self, model):\n",
    "        self.model = model\n",
    "        self.tree_offsets = [enumerate_tree(tree) for tree in model.trees]\n",
    "        self.feature_vector_size = sum(self.tree_offsets)\n",
    "        \n",
    "    def predict(self, x):\n",
    "        output = np.zeros((len(x), self.feature_vector_size))\n",
    "        \n",
    "        cum_offset = 0\n",
    "        for tree, tree_offset in zip(self.model.trees, self.tree_offsets):\n",
    "            predictions = tree.predict(x, get_id = True)\n",
    "            output[np.arange(len(output)), (predictions+cum_offset).astype(int)] = 1\n",
    "            \n",
    "            cum_offset += tree_offset\n",
    "        \n",
    "        return output"
   ]
  },
  {
   "cell_type": "code",
   "execution_count": 79,
   "metadata": {},
   "outputs": [],
   "source": [
    "fe = FeatureExtractor(clf)"
   ]
  },
  {
   "cell_type": "code",
   "execution_count": 80,
   "metadata": {},
   "outputs": [],
   "source": [
    "X_train_transformed = fe.predict(X_train)\n",
    "X_test_transformed = fe.predict(X_test)"
   ]
  },
  {
   "cell_type": "code",
   "execution_count": 81,
   "metadata": {},
   "outputs": [],
   "source": [
    "def sigmoid(x):\n",
    "    sigm_value_x = 1 / (1 + np.exp(-x))\n",
    "    return sigm_value_x\n",
    "\n",
    "def batch_generator(X, y, shuffle=True, batch_size=1):\n",
    "    n = X.shape[0]\n",
    "    assert n == y.shape[0]\n",
    "    \n",
    "    indicies = np.arange(len(X))\n",
    "\n",
    "    if shuffle:\n",
    "        np.random.shuffle(indicies)\n",
    "        \n",
    "    for i in range(0,n,batch_size):\n",
    "        X_batch = X[indicies[i:min(n,i+batch_size)]]\n",
    "        y_batch = y[indicies[i:min(n,i+batch_size)]]\n",
    "        yield (X_batch, y_batch)\n",
    "\n",
    "class LinearRegression:\n",
    "\n",
    "    def __init__(self, batch_generator, C=1, alpha=0.01, max_epoch=10, batch_size=10):\n",
    "        self.C = C\n",
    "        self.alpha = alpha\n",
    "        self.max_epoch = max_epoch\n",
    "        self.batch_generator = batch_generator\n",
    "        self.errors_log = {'iter': [], 'loss': []}\n",
    "        self.batch_size = batch_size\n",
    "\n",
    "    def calc_loss(self, X_batch, y_batch):\n",
    "        predicted = self.predict(X_batch)\n",
    "        \n",
    "        a = sigmoid(np.dot(X_batch, self.weights))\n",
    "\n",
    "        loss = -(1 / X_batch.shape[0]) * \\\n",
    "            np.sum(y_batch * np.log2(a) +\n",
    "                   (1 - y_batch) * np.log2(1 - a))\n",
    "\n",
    "        R = np.linalg.norm(self.weights) / self.C\n",
    "        return loss + R\n",
    "\n",
    "    def calc_loss_grad(self, X_batch, y_batch):\n",
    "        N = X_batch.shape[0]\n",
    "\n",
    "        a = sigmoid(np.dot(X_batch, self.weights))\n",
    "        loss_grad = (1 / N) * np.dot((a - y_batch), X_batch) + \\\n",
    "                    (2 / self.C) * self.weights\n",
    "\n",
    "        return loss_grad\n",
    "\n",
    "    def update_weights(self, new_grad):\n",
    "        self.weights -= self.alpha * new_grad\n",
    "\n",
    "    def fit(self, X, y):\n",
    "        X = np.hstack((np.ones((X.shape[0], 1)), X))\n",
    "        self.weights = np.random.uniform(0, 1, X.shape[1])\n",
    "\n",
    "        for n in trange(0, self.max_epoch):\n",
    "            new_epoch_generator = \\\n",
    "                self.batch_generator(X, y,\n",
    "                                     shuffle=True, batch_size=self.batch_size)\n",
    "            for batch_num, new_batch in enumerate(new_epoch_generator):\n",
    "                X_batch = new_batch[0]\n",
    "                y_batch = new_batch[1]\n",
    "                batch_grad = self.calc_loss_grad(X_batch, y_batch)\n",
    "                self.update_weights(batch_grad)\n",
    "                batch_loss = self.calc_loss(X_batch, y_batch)\n",
    "\n",
    "                self.errors_log['iter'].append(batch_num)\n",
    "                self.errors_log['loss'].append(batch_loss)\n",
    "\n",
    "    def predict(self, X):\n",
    "        y_hat = np.dot(X, self.weights)\n",
    "        return (y_hat >= 0.5).astype(int)\n",
    "    \n",
    "    def predict_proba(self, X):\n",
    "        y_hat = np.dot(X, self.weights)\n",
    "        return y_hat"
   ]
  },
  {
   "cell_type": "code",
   "execution_count": 82,
   "metadata": {},
   "outputs": [],
   "source": [
    "lr = LinearRegression(batch_generator, C=1, alpha=1e-2, batch_size=200)"
   ]
  },
  {
   "cell_type": "code",
   "execution_count": 83,
   "metadata": {},
   "outputs": [
    {
     "data": {
      "application/vnd.jupyter.widget-view+json": {
       "model_id": "a020d734d3f945a8b86b40ca30138297",
       "version_major": 2,
       "version_minor": 0
      },
      "text/plain": [
       "HBox(children=(FloatProgress(value=0.0, max=10.0), HTML(value='')))"
      ]
     },
     "metadata": {},
     "output_type": "display_data"
    },
    {
     "name": "stderr",
     "output_type": "stream",
     "text": [
      "/root/anaconda3/lib/python3.7/site-packages/ipykernel_launcher.py:36: RuntimeWarning: divide by zero encountered in log2\n",
      "/root/anaconda3/lib/python3.7/site-packages/ipykernel_launcher.py:36: RuntimeWarning: invalid value encountered in multiply\n"
     ]
    },
    {
     "name": "stdout",
     "output_type": "stream",
     "text": [
      "\n"
     ]
    }
   ],
   "source": [
    "lr.fit(X_train_transformed,(y_train+1)/2)"
   ]
  },
  {
   "cell_type": "code",
   "execution_count": 84,
   "metadata": {},
   "outputs": [
    {
     "data": {
      "text/plain": [
       "[<matplotlib.lines.Line2D at 0x7fb431bb1f10>]"
      ]
     },
     "execution_count": 84,
     "metadata": {},
     "output_type": "execute_result"
    },
    {
     "data": {
      "image/png": "[encoded data removed]",
      "text/plain": [
       "<Figure size 432x288 with 1 Axes>"
      ]
     },
     "metadata": {
      "needs_background": "light"
     },
     "output_type": "display_data"
    }
   ],
   "source": [
    "plt.plot(lr.errors_log['loss'])"
   ]
  },
  {
   "cell_type": "code",
   "execution_count": 85,
   "metadata": {},
   "outputs": [],
   "source": [
    "X_test_transformed = np.hstack((np.ones((X_test_transformed.shape[0], 1)), X_test_transformed))"
   ]
  },
  {
   "cell_type": "code",
   "execution_count": 86,
   "metadata": {},
   "outputs": [
    {
     "data": {
      "text/plain": [
       "0.981918744553825"
      ]
     },
     "execution_count": 86,
     "metadata": {},
     "output_type": "execute_result"
    }
   ],
   "source": [
    "from sklearn.metrics import roc_auc_score\n",
    "\n",
    "roc_auc_score(y_test, lr.predict_proba(X_test_transformed))"
   ]
  },
  {
   "cell_type": "code",
   "execution_count": 87,
   "metadata": {},
   "outputs": [
    {
     "data": {
      "text/plain": [
       "0.9868020243570517"
      ]
     },
     "execution_count": 87,
     "metadata": {},
     "output_type": "execute_result"
    }
   ],
   "source": [
    "roc_auc_score(y_test, clf.predict(X_test))"
   ]
  },
  {
   "cell_type": "code",
   "execution_count": 88,
   "metadata": {},
   "outputs": [
    {
     "data": {
      "text/plain": [
       "0.9860723832655487"
      ]
     },
     "execution_count": 88,
     "metadata": {},
     "output_type": "execute_result"
    }
   ],
   "source": [
    "roc_auc_score(y_test, sk_clf.predict_proba(X_test)[:,1])"
   ]
  },
  {
   "cell_type": "code",
   "execution_count": null,
   "metadata": {},
   "outputs": [],
   "source": []
  }
 ],
 "metadata": {
  "kernelspec": {
   "display_name": "Python 3",
   "language": "python",
   "name": "python3"
  },
  "language_info": {
   "codemirror_mode": {
    "name": "ipython",
    "version": 3
   },
   "file_extension": ".py",
   "mimetype": "text/x-python",
   "name": "python",
   "nbconvert_exporter": "python",
   "pygments_lexer": "ipython3",
   "version": "3.7.6"
  }
 },
 "nbformat": 4,
 "nbformat_minor": 4
}
